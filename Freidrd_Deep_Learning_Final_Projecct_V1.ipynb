{
  "nbformat": 4,
  "nbformat_minor": 0,
  "metadata": {
    "colab": {
      "provenance": [],
      "mount_file_id": "1He_mb6EMs2kcyd1bJM_dVpq8zdFPumbZ",
      "authorship_tag": "ABX9TyMBEFlSM7yh0MOoQRVRjGpf",
      "include_colab_link": true
    },
    "kernelspec": {
      "name": "python3",
      "display_name": "Python 3"
    },
    "language_info": {
      "name": "python"
    }
  },
  "cells": [
    {
      "cell_type": "markdown",
      "metadata": {
        "id": "view-in-github",
        "colab_type": "text"
      },
      "source": [
        "<a href=\"https://colab.research.google.com/github/AirPro/DeepLearningFinalProject/blob/main/Freidrd_Deep_Learning_Final_Projecct_V1.ipynb\" target=\"_parent\"><img src=\"https://colab.research.google.com/assets/colab-badge.svg\" alt=\"Open In Colab\"/></a>"
      ]
    },
    {
      "cell_type": "markdown",
      "source": [
        "# Robert Freid Deep Learning Final Project Assignment #\n",
        "We are implementing classification models for the CIFAR10 small images dataset. <br> This dataset contains 50,000 32 x 32 color training images and 10,000 test images. <br> There are 10 Labeled Catagories. <br> The dataset is already built in Keras and we will import the data using the method described in class. \n",
        "\n"
      ],
      "metadata": {
        "id": "p3RadEuragUm"
      }
    },
    {
      "cell_type": "code",
      "execution_count": 2,
      "metadata": {
        "colab": {
          "base_uri": "https://localhost:8080/"
        },
        "id": "cfaKHVwxaNeb",
        "outputId": "0e24bb61-6a2a-4d6f-c768-11a933f2feb7"
      },
      "outputs": [
        {
          "output_type": "stream",
          "name": "stdout",
          "text": [
            "tensorflow version:  2.12.0\n"
          ]
        }
      ],
      "source": [
        "# Import Statements\n",
        "import tensorflow as tf\n",
        "\n",
        "# Display the tensorflow version\n",
        "print(\"tensorflow version: \", tf.__version__)"
      ]
    },
    {
      "cell_type": "code",
      "source": [
        "from tensorflow import keras"
      ],
      "metadata": {
        "id": "z6lFqdRyfD9x"
      },
      "execution_count": 3,
      "outputs": []
    },
    {
      "cell_type": "code",
      "source": [
        "# Additional Imports\n",
        "import numpy as np\n",
        "import matplotlib.pyplot as plt\n",
        "from tensorflow.keras.layers import Input, Conv2D, Dense, Flatten, Dropout\n",
        "from tensorflow.keras.layers import GlobalMaxPooling2D, MaxPooling2D\n",
        "from tensorflow.keras.layers import BatchNormalization\n",
        "from tensorflow.keras.models import Model\n",
        "from tensorflow.keras.utils import to_categorical, plot_model"
      ],
      "metadata": {
        "id": "C7nli-gudfzA"
      },
      "execution_count": 4,
      "outputs": []
    },
    {
      "cell_type": "markdown",
      "source": [
        "# Loading the CIFAR10 Dataset"
      ],
      "metadata": {
        "id": "n5k6JOnFgINC"
      }
    },
    {
      "cell_type": "code",
      "source": [
        "# Loading the CIFAR10 dataset\n",
        "Cifar10=keras.datasets.cifar10 \n",
        "\n",
        "(x_train, y_train), (x_test, y_test) = keras.datasets.cifar10.load_data()"
      ],
      "metadata": {
        "colab": {
          "base_uri": "https://localhost:8080/"
        },
        "id": "72EThtBJgKGk",
        "outputId": "2436510a-4d5f-4bd6-bb42-d1f1311eae40"
      },
      "execution_count": 5,
      "outputs": [
        {
          "output_type": "stream",
          "name": "stdout",
          "text": [
            "Downloading data from https://www.cs.toronto.edu/~kriz/cifar-10-python.tar.gz\n",
            "170498071/170498071 [==============================] - 11s 0us/step\n"
          ]
        }
      ]
    },
    {
      "cell_type": "code",
      "source": [
        "print(x_train.shape, y_train.shape, x_test.shape, y_test.shape)"
      ],
      "metadata": {
        "colab": {
          "base_uri": "https://localhost:8080/"
        },
        "id": "2ZxHTcm0hkjK",
        "outputId": "5ddb678f-8820-453a-e129-ec08d53c98d1"
      },
      "execution_count": 6,
      "outputs": [
        {
          "output_type": "stream",
          "name": "stdout",
          "text": [
            "(50000, 32, 32, 3) (50000, 1) (10000, 32, 32, 3) (10000, 1)\n"
          ]
        }
      ]
    }
  ]
}